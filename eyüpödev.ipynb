{
 "cells": [
  {
   "cell_type": "code",
   "execution_count": 2,
   "metadata": {},
   "outputs": [
    {
     "name": "stdout",
     "output_type": "stream",
     "text": [
      "uzagina düstü\n",
      "uzagina düstü\n",
      "uzagina düstü\n",
      "onune düstü\n",
      "onune düstü\n",
      "onune düstü\n",
      "hedefi vurdun\n",
      "Hedefi vurmak icin gerekli olan atis sayisi = 7\n",
      "Hedefi vurmak icin gerekli hiz  = 502.27 m/s\n"
     ]
    },
    {
     "data": {
      "image/png": "[encoded data removed]",
      "text/plain": [
       "<Figure size 432x288 with 1 Axes>"
      ]
     },
     "metadata": {
      "needs_background": "light"
     },
     "output_type": "display_data"
    }
   ],
   "source": [
    "import math\n",
    "import random as rnd\n",
    "import matplotlib.pyplot as plt\n",
    "\n",
    "xkonumu = [0]\n",
    "ykonumu = [0.5]\n",
    "\n",
    "endüsükhiz = 330\n",
    "enyüksekhiz = 1800\n",
    "aci = math.pi/6\n",
    "\n",
    "baslangichedefi = 20000 + (200 * rnd.randint(-10,10))\n",
    "bitishedefi = baslangichedefi + 1000 + 100 * rnd.randint(-2, 2)\n",
    "\n",
    "\n",
    "atissayisi = 0\n",
    "minhiz = endüsükhiz\n",
    "maxhiz = enyüksekhiz\n",
    "g = 10\n",
    "while True:\n",
    "\n",
    "    firlatmahizi = (minhiz + maxhiz) / 2\n",
    "    xhizi = firlatmahizi * math.cos(math.pi/6)\n",
    "    yhizi = firlatmahizi * math.sin(math.pi/6)\n",
    "    tucus = (2*yhizi)/ g\n",
    "    xmenzili = xhizi * tucus\n",
    "    \n",
    "\n",
    "    if baslangichedefi <= xmenzili <= bitishedefi:\n",
    "        print(\"hedefi vurdun\")\n",
    "        plt.figure\n",
    "        plt.xlabel(\"mesafe (m)\")\n",
    "        plt.axis([0, 25000, 0, 5000])\n",
    "        plt.ylabel(\"Yükseklik (m)\")\n",
    "\n",
    "        for t in range(round(tucus)):\n",
    "            x = xhizi * t\n",
    "            y = yhizi * t - 0.5 * g * t ** 2\n",
    "            xkonumu.append(x)\n",
    "            ykonumu.append(y)\n",
    "            plt.plot(xkonumu, ykonumu)\n",
    "\n",
    "        atissayisi += 1\n",
    "        plt.title(\"Vurus sayisi = %d\" % atissayisi)\n",
    "        \n",
    "        xkonumu = [0]\n",
    "        ykonumu = [0.5]\n",
    "        break\n",
    "\n",
    "    elif xmenzili < baslangichedefi:\n",
    "        print(\"onune düstü\")\n",
    "        \n",
    "        minhiz = firlatmahizi\n",
    "        atissayisi += 1\n",
    "\n",
    "    else:\n",
    "        print(\"uzagina düstü\")\n",
    "        if maxhiz - minhiz < 0.1:\n",
    "            print(\"Hedefe ulasmak icin minimum hiz sinirina ulastiniz.\")\n",
    "            break\n",
    "        maxhiz = firlatmahizi\n",
    "        atissayisi += 1\n",
    "\n",
    "    # Hata düzeltmesi: xkonumu ve ykonumu listelerine başlangıç pozisyonunu ekle\n",
    "    xkonumu = [0]\n",
    "    ykonumu = [0.5]\n",
    "\n",
    "print(\"Hedefi vurmak icin gerekli olan atis sayisi = %d\" % atissayisi)\n",
    "print(\"Hedefi vurmak icin gerekli hiz  = %.2f m/s\" % firlatmahizi)"
   ]
  },
  {
   "cell_type": "code",
   "execution_count": null,
   "metadata": {},
   "outputs": [],
   "source": []
  }
 ],
 "metadata": {
  "kernelspec": {
   "display_name": "Python 3",
   "language": "python",
   "name": "python3"
  },
  "language_info": {
   "codemirror_mode": {
    "name": "ipython",
    "version": 3
   },
   "file_extension": ".py",
   "mimetype": "text/x-python",
   "name": "python",
   "nbconvert_exporter": "python",
   "pygments_lexer": "ipython3",
   "version": "3.8.5"
  }
 },
 "nbformat": 4,
 "nbformat_minor": 4
}
